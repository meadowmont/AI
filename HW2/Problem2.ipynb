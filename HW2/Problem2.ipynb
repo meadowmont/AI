{
  "nbformat": 4,
  "nbformat_minor": 0,
  "metadata": {
    "colab": {
      "provenance": [],
      "authorship_tag": "ABX9TyPYUpj8zYmEMutH7c6RmEMp",
      "include_colab_link": true
    },
    "kernelspec": {
      "name": "python3",
      "display_name": "Python 3"
    },
    "language_info": {
      "name": "python"
    }
  },
  "cells": [
    {
      "cell_type": "markdown",
      "metadata": {
        "id": "view-in-github",
        "colab_type": "text"
      },
      "source": [
        "<a href=\"https://colab.research.google.com/github/meadowmont/AI/blob/main/HW2/Problem2.ipynb\" target=\"_parent\"><img src=\"https://colab.research.google.com/assets/colab-badge.svg\" alt=\"Open In Colab\"/></a>"
      ]
    },
    {
      "cell_type": "markdown",
      "source": [
        "Meadow Monticello CSC 362 Assignment2 9/26/2025"
      ],
      "metadata": {
        "id": "5Kygibp5He7h"
      }
    },
    {
      "cell_type": "markdown",
      "source": [
        "# Problem 2\n",
        "Write an algorithm that uses BFS to discover potentially missing immediate connections in a network. For example, for the network G shown at time t:\n",
        "\n",
        "PotentialFriends(G, 'Adam') returns Sophia, Maya, David\n",
        "PotentialFriends(G, 'David') returns Adam, Sophia\n",
        "PotentialFriends(G, 'Sophia') returns Adam, David"
      ],
      "metadata": {
        "id": "CmEtLgx2Hjei"
      }
    },
    {
      "cell_type": "code",
      "execution_count": null,
      "metadata": {
        "id": "anWJ0A18HWmS"
      },
      "outputs": [],
      "source": [
        "# Set up queue/dequeue\n",
        "# See https://realpython.com/python-deque/\n",
        "\n",
        "from collections import deque\n",
        "\n",
        "# Start the graph search from root using a doubly-ended queue\n",
        "\n",
        "def PotentialFriends(graph, name):\n",
        "\n",
        "    # deque is list-like container with fast appends and pops on either end\n",
        "    visited, queue = set(), deque([(name, 0)])\n",
        "    visited.add(name)\n",
        "\n",
        "    potential_friends = []\n",
        "\n",
        "    # Keep exploring as long as the queue is not empty\n",
        "    while queue:\n",
        "\n",
        "        # Dequeue a vertex from queue\n",
        "        vertex, level = queue.popleft()\n",
        "\n",
        "        # If the original name does not have another as an immediate friend (L1), inlcude in list\n",
        "        if vertex != name and level > 1:\n",
        "          potential_friends.append(vertex)\n",
        "\n",
        "        # If not visited, mark it as visited, and enqueue it\n",
        "        for neighbor in graph[vertex]:\n",
        "            if neighbor not in visited:\n",
        "                visited.add(neighbor)\n",
        "                queue.append((neighbor, level + 1))\n",
        "\n",
        "    return potential_friends"
      ]
    },
    {
      "cell_type": "code",
      "source": [
        "# Represent the graph using an adjacency list\n",
        "graphPotentialFriends = {\n",
        "   'Adam' : ['Maria'],\n",
        "   'Maria' : ['Adam', 'Sophia', 'Maya', 'David'],\n",
        "   'Sophia' : ['Maria', 'Maya'],\n",
        "   'Maya' : ['Maria', 'Sophia', 'David'],\n",
        "   'David' : ['Maria', 'Maya']\n",
        "}\n",
        "\n",
        "print(\"Adam's potential friends are: \", PotentialFriends(graphPotentialFriends, 'Adam'))\n",
        "print(\"David's potential friends are: \",PotentialFriends(graphPotentialFriends, 'David'))\n",
        "print(\"Sophia's potential friends are: \",PotentialFriends(graphPotentialFriends, 'Sophia'))"
      ],
      "metadata": {
        "colab": {
          "base_uri": "https://localhost:8080/"
        },
        "id": "pnJq9Qu9HsdA",
        "outputId": "f50ebbcf-fb07-4889-a9f0-714adbc463ec"
      },
      "execution_count": null,
      "outputs": [
        {
          "output_type": "stream",
          "name": "stdout",
          "text": [
            "Adam's potential friends are:  ['Sophia', 'Maya', 'David']\n",
            "David's potential friends are:  ['Adam', 'Sophia']\n",
            "Sophia's potential friends are:  ['Adam', 'David']\n"
          ]
        }
      ]
    }
  ]
}