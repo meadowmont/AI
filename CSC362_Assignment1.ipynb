{
  "nbformat": 4,
  "nbformat_minor": 0,
  "metadata": {
    "colab": {
      "provenance": [],
      "authorship_tag": "ABX9TyOcLlOSpWlcO6n609T+JPSG",
      "include_colab_link": true
    },
    "kernelspec": {
      "name": "python3",
      "display_name": "Python 3"
    },
    "language_info": {
      "name": "python"
    }
  },
  "cells": [
    {
      "cell_type": "markdown",
      "metadata": {
        "id": "view-in-github",
        "colab_type": "text"
      },
      "source": [
        "<a href=\"https://colab.research.google.com/github/meadowmont/AI/blob/main/CSC362_Assignment1.ipynb\" target=\"_parent\"><img src=\"https://colab.research.google.com/assets/colab-badge.svg\" alt=\"Open In Colab\"/></a>"
      ]
    },
    {
      "cell_type": "markdown",
      "source": [
        "Meadow Monticello\n",
        "CSC 362\n",
        "Assignment 1 - Water Jug Puzzle"
      ],
      "metadata": {
        "id": "pEHRgczDfcuy"
      }
    },
    {
      "cell_type": "code",
      "execution_count": 8,
      "metadata": {
        "id": "QG6Z0OkUfVJc"
      },
      "outputs": [],
      "source": [
        "class WaterJugPuzzle():\n",
        "\n",
        "  # We model the state using two sets of strings: 5L jug (big) and 3L jug (little)\n",
        "  def __init__(self):\n",
        "    self.big = 0 # capacity of 5L\n",
        "    self.little = 0 # capacity of 3L\n",
        "    self._big = 0\n",
        "    self._little = 0\n",
        "\n",
        "  def save_state(self):\n",
        "    self._big = self.big\n",
        "    self._little = self.little\n",
        "\n",
        "  def undo_state(self):\n",
        "    self.big = self._big\n",
        "    self.little = self._little\n",
        "\n",
        "  # Gaurds Against Illegal States (Capacity)\n",
        "  def big_not_overfull(self):\n",
        "    return self.big <= 5 # cannot exceed 5L\n",
        "\n",
        "  def little_not_overfull(self):\n",
        "    return self.little <= 3 # cannot exceed 3L\n",
        "\n",
        "  def big_not_tooempty(self):\n",
        "    return self.big >= 0\n",
        "\n",
        "  def little_not_tooempty(self):\n",
        "    return self.little >= 0\n",
        "\n",
        "  def state_possible(self):\n",
        "    return self.big_not_overfull() and self.little_not_overfull() and self.big_not_tooempty() and self.little_not_tooempty()\n",
        "\n",
        "  # Rule 1: Fill Big Jug\n",
        "  def R1_fill_big(self):\n",
        "    self.save_state()\n",
        "    self.big = 5\n",
        "    if not self.state_possible():\n",
        "      self.undo_state()\n",
        "\n",
        "  # Rule 2: Empty Big Jig\n",
        "  def R2_empty_big(self):\n",
        "    self.save_state()\n",
        "    self.big = 0\n",
        "    if not self.state_possible():\n",
        "      self.undo_state()\n",
        "\n",
        "  # Rule 3: Fill Little Jug\n",
        "  def R3_fill_little(self):\n",
        "    self.save_state()\n",
        "    self.little = 3\n",
        "    if not self.state_possible():\n",
        "      self.undo_state()\n",
        "\n",
        "  # Rule 4: Empty Little Jug\n",
        "  def R4_empty_little(self):\n",
        "    self.save_state()\n",
        "    self.little = 0\n",
        "    if not self.state_possible():\n",
        "      self.undo_state()\n",
        "\n",
        "  # Rule 5: Pour Big into Little\n",
        "  def R5_pour_big_little(self):\n",
        "    self.save_state()\n",
        "    transfer = min(self.big, 3 - self.little)\n",
        "    self.big -= transfer\n",
        "    self.little += transfer\n",
        "    if not self.state_possible():\n",
        "      self.undo_state()\n",
        "\n",
        "  # Rule 6: Pour Little into Big\n",
        "  def R6_pour_little_big(self):\n",
        "    self.save_state()\n",
        "    transfer = min(5 - self.big, self.little)\n",
        "    self.big += transfer\n",
        "    self.little -= transfer\n",
        "    if not self.state_possible():\n",
        "      self.undo_state()\n",
        "\n",
        "  # Print\n",
        "  def print_state(self):\n",
        "    print(\"Big jug: \", self.big, \"Little jug: \", self.little)\n"
      ]
    },
    {
      "cell_type": "code",
      "source": [
        "# Solution Run (puzzle answer provided on Canvas)\n",
        "if __name__ == \"__main__\":\n",
        "  puzzle = WaterJugPuzzle()\n",
        "\n",
        "  # Step 1: Fill the Big Jug\n",
        "  puzzle.R1_fill_big()\n",
        "  puzzle.print_state()\n",
        "\n",
        "  # Step 2: Fill the Little Jug from the Big Jug\n",
        "  puzzle.R5_pour_big_little()\n",
        "  puzzle.print_state()\n",
        "\n",
        "  # Step 3: Empty the Little Jug\n",
        "  puzzle.R4_empty_little()\n",
        "  puzzle.print_state()\n",
        "\n",
        "  # Step 4: Pour the remaining 2L from the Big Jug into the Little Jug\n",
        "  puzzle.R5_pour_big_little()\n",
        "  puzzle.print_state()\n",
        "\n",
        "  # Step 5: Refill the Big Jug\n",
        "  puzzle.R1_fill_big()\n",
        "  puzzle.print_state()\n",
        "\n",
        "  # Step 6: Fill the Little Jug with 1L from Big Jug\n",
        "  puzzle.R5_pour_big_little()\n",
        "  puzzle.print_state()\n",
        "\n",
        "  # Print Results\n",
        "  print(\"Puzzle Solved! The Big Jug has 4L :D\")"
      ],
      "metadata": {
        "colab": {
          "base_uri": "https://localhost:8080/"
        },
        "id": "9eUgiObUAWuo",
        "outputId": "3f88954c-5317-42bd-a268-4cfe3a9493db"
      },
      "execution_count": 10,
      "outputs": [
        {
          "output_type": "stream",
          "name": "stdout",
          "text": [
            "Big jug:  5 Little jug:  0\n",
            "Big jug:  2 Little jug:  3\n",
            "Big jug:  2 Little jug:  0\n",
            "Big jug:  0 Little jug:  2\n",
            "Big jug:  5 Little jug:  2\n",
            "Big jug:  4 Little jug:  3\n",
            "Puzzle Solved! The Big Jug has 4L :D\n"
          ]
        }
      ]
    }
  ]
}