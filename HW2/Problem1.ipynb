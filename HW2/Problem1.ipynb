{
  "nbformat": 4,
  "nbformat_minor": 0,
  "metadata": {
    "colab": {
      "provenance": [],
      "authorship_tag": "ABX9TyM7e62SZH4TsnyFK+dMzW2H",
      "include_colab_link": true
    },
    "kernelspec": {
      "name": "python3",
      "display_name": "Python 3"
    },
    "language_info": {
      "name": "python"
    }
  },
  "cells": [
    {
      "cell_type": "markdown",
      "metadata": {
        "id": "view-in-github",
        "colab_type": "text"
      },
      "source": [
        "<a href=\"https://colab.research.google.com/github/meadowmont/AI/blob/main/HW2/Problem1.ipynb\" target=\"_parent\"><img src=\"https://colab.research.google.com/assets/colab-badge.svg\" alt=\"Open In Colab\"/></a>"
      ]
    },
    {
      "cell_type": "markdown",
      "source": [
        "Meadow Monticello CSC 362 Assignment2 9/26/2025"
      ],
      "metadata": {
        "id": "MUmwuY-y4nb0"
      }
    },
    {
      "cell_type": "markdown",
      "source": [
        "# Problem 1\n",
        "Your task is to use the BFS algorithm to return the kth-level friend for a given user and graph: FindFriends(G, User, K). Test your algorithm on the network shown below:\n",
        "\n",
        "FindFriends(G, 'Bob', 3) should print Amy and Anna."
      ],
      "metadata": {
        "id": "Lv1dEWkr6A1r"
      }
    },
    {
      "cell_type": "code",
      "execution_count": null,
      "metadata": {
        "id": "5SAuv5TG3_Ek"
      },
      "outputs": [],
      "source": [
        "# Set up queue/dequeue\n",
        "# See https://realpython.com/python-deque/\n",
        "\n",
        "from collections import deque\n",
        "\n",
        "# Start the graph search from root using a doubly-ended queue\n",
        "\n",
        "def FindFriends(G, User, K):\n",
        "\n",
        "    # deque is list-like container with fast appends and pops on either end\n",
        "    visited, queue = set(), deque([(User, 0)])\n",
        "    visited.add(User)\n",
        "\n",
        "    kth_level_friend = []\n",
        "\n",
        "    # Keep exploring as long as the queue is not empty\n",
        "    while queue:\n",
        "\n",
        "        # Dequeue a vertex from queue\n",
        "        vertex, level = queue.popleft()\n",
        "\n",
        "        if level == K:\n",
        "            kth_level_friend.append(vertex)\n",
        "\n",
        "        # If not visited, mark it as visited, and enqueue it\n",
        "        for neighbor in G[vertex]:\n",
        "            if neighbor not in visited:\n",
        "                visited.add(neighbor)\n",
        "                queue.append((neighbor, level + 1))\n",
        "\n",
        "    if User in kth_level_friend:\n",
        "      kth_level_friend.remove(User)\n",
        "    return kth_level_friend\n"
      ]
    },
    {
      "cell_type": "code",
      "source": [
        "# Represent the graph using an adjacency list\n",
        "graphFriends = {\n",
        "   'Richard' : ['Bob'],\n",
        "   'Bob' : ['Rob', 'Pam'],\n",
        "   'Rob' : ['Bob'],\n",
        "   'Pam' : ['Bob', 'Roger', 'Peter'],\n",
        "   'Peter' : ['Pam', 'Amy'],\n",
        "   'Amy' : ['Peter'],\n",
        "   'Roger' : ['Pam', 'Anna'],\n",
        "   'Anna' : ['Roger']\n",
        "}\n",
        "\n",
        "FindFriends(graphFriends, 'Bob', 3)"
      ],
      "metadata": {
        "colab": {
          "base_uri": "https://localhost:8080/"
        },
        "id": "lSXNxqjw95K6",
        "outputId": "88d1d7af-cbee-4777-99df-4a7bc48b87f7"
      },
      "execution_count": null,
      "outputs": [
        {
          "output_type": "execute_result",
          "data": {
            "text/plain": [
              "['Anna', 'Amy']"
            ]
          },
          "metadata": {},
          "execution_count": 22
        }
      ]
    }
  ]
}